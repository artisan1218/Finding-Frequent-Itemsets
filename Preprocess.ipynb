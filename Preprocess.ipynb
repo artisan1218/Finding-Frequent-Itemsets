{
 "cells": [
  {
   "cell_type": "code",
   "execution_count": null,
   "id": "instrumental-combine",
   "metadata": {},
   "outputs": [],
   "source": [
    "import findspark\n",
    "findspark.init()\n",
    "\n",
    "from pyspark import SparkContext\n",
    "import json\n",
    "\n",
    "sc = SparkContext.getOrCreate()\n",
    "\n",
    "review_path = r'C:\\Users\\11921\\Downloads\\review.json'\n",
    "business_path = r'C:\\Users\\11921\\Downloads\\business.json'\n",
    "\n",
    "reviewRDD = sc.textFile(review_path)\n",
    "businessRDD = sc.textFile(business_path)\n",
    "\n",
    "def keepIdAndState(eachBus):\n",
    "    busJson = json.loads(eachBus)\n",
    "    return (busJson['business_id'], busJson['state'])\n",
    "\n",
    "NVBusId = businessRDD.map(lambda eachBus:keepIdAndState(eachBus))\\\n",
    "                         .filter(lambda idStateTuple:idStateTuple[1]=='NV')\\\n",
    "                         .map(lambda NVBus: NVBus[0]).collect()                \n",
    "\n",
    "def keepUserAndBus(eachReview):\n",
    "    reviewJson = json.loads(eachReview)\n",
    "    return (reviewJson['user_id'], reviewJson['business_id'])\n",
    "    \n",
    "resultList = reviewRDD.map(lambda eachReview: keepUserAndBus(eachReview)).filter(lambda pair: pair[1] in NVBusId).collect()\n",
    "\n",
    "outputFile = open('user_business_file.csv', 'w')\n",
    "outputFile.write('user_id,business_id')\n",
    "for pair in resultList:\n",
    "    outputFile.write('\\n'+pair[0]+','+pair[1])\n",
    "outputFile.close()"
   ]
  },
  {
   "cell_type": "code",
   "execution_count": null,
   "id": "olive-closing",
   "metadata": {},
   "outputs": [],
   "source": []
  }
 ],
 "metadata": {
  "kernelspec": {
   "display_name": "Python 3",
   "language": "python",
   "name": "python3"
  },
  "language_info": {
   "codemirror_mode": {
    "name": "ipython",
    "version": 3
   },
   "file_extension": ".py",
   "mimetype": "text/x-python",
   "name": "python",
   "nbconvert_exporter": "python",
   "pygments_lexer": "ipython3",
   "version": "3.6.10"
  }
 },
 "nbformat": 4,
 "nbformat_minor": 5
}
